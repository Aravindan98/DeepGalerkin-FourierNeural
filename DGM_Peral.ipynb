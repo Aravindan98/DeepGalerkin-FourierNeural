{
  "nbformat": 4,
  "nbformat_minor": 0,
  "metadata": {
    "colab": {
      "name": "DeepGalerkin3d.ipynb",
      "provenance": [],
      "collapsed_sections": [],
      "include_colab_link": true
    },
    "kernelspec": {
      "display_name": "Python 3",
      "name": "python3"
    }
  },
  "cells": [
    {
      "cell_type": "markdown",
      "metadata": {
        "id": "view-in-github",
        "colab_type": "text"
      },
      "source": [
        "<a href=\"https://colab.research.google.com/github/Aravindan98/DeepGalerkin-FourierNeural/blob/main/DGM_Peral.ipynb\" target=\"_parent\"><img src=\"https://colab.research.google.com/assets/colab-badge.svg\" alt=\"Open In Colab\"/></a>"
      ]
    },
    {
      "cell_type": "markdown",
      "metadata": {
        "id": "OExNa_7F00cr"
      },
      "source": [
        "$\\nabla ^2 f(x,y,z)=sin(x^2+y^2+z^2)$\n",
        "\n",
        "$f(x,y,z)=0 $ @  $x^2+y^2+z^2=1$"
      ]
    },
    {
      "cell_type": "markdown",
      "metadata": {
        "id": "yxMJvqBrrDt_"
      },
      "source": [
        "Installing required dependencies. Note: TensorFlow version is 1"
      ]
    },
    {
      "cell_type": "code",
      "metadata": {
        "id": "IkGlSBnNAsy7",
        "colab": {
          "base_uri": "https://localhost:8080/"
        },
        "outputId": "37b7e8b3-72dd-406d-fda1-55fda4ac55f0"
      },
      "source": [
        "# CLASS DEFINITIONS FOR NEURAL NETWORKS USED IN DEEP GALERKIN METHOD\n",
        "%tensorflow_version 1.x\n",
        "import tensorflow as tf\n",
        "print(tf.__version__)\n",
        "\n",
        "import numpy as np\n",
        "import matplotlib.pyplot as plt\n",
        "from scipy.special import fresnel\n",
        "\n",
        "#%% LSTM-like layer used in DGM (see Figure 5.3 and set of equations on p. 45) - modification of Keras layer class\n",
        "\n",
        "class LSTMLayer(tf.keras.layers.Layer):\n",
        "    \n",
        "    # constructor/initializer function (automatically called when new instance of class is created)\n",
        "    def __init__(self, output_dim, input_dim, trans1 = \"tanh\", trans2 = \"tanh\"):\n",
        "        '''\n",
        "        Args:\n",
        "            input_dim (int):       dimensionality of input data\n",
        "            output_dim (int):      number of outputs for LSTM layers\n",
        "            trans1, trans2 (str):  activation functions used inside the layer; \n",
        "                                   one of: \"tanh\" (default), \"relu\" or \"sigmoid\"\n",
        "        \n",
        "        Returns: customized Keras layer object used as intermediate layers in DGM\n",
        "        '''        \n",
        "        \n",
        "        # create an instance of a Layer object (call initialize function of superclass of LSTMLayer)\n",
        "        super(LSTMLayer, self).__init__()\n",
        "        \n",
        "        # add properties for layer including activation functions used inside the layer  \n",
        "        self.output_dim = output_dim\n",
        "        self.input_dim = input_dim\n",
        "        \n",
        "        if trans1 == \"tanh\":\n",
        "            self.trans1 = tf.nn.tanh\n",
        "        elif trans1 == \"relu\":\n",
        "            self.trans1 = tf.nn.relu\n",
        "        elif trans1 == \"sigmoid\":\n",
        "            self.trans1 = tf.nn.sigmoid\n",
        "        \n",
        "        if trans2 == \"tanh\":\n",
        "            self.trans2 = tf.nn.tanh\n",
        "        elif trans2 == \"relu\":\n",
        "            self.trans2 = tf.nn.relu\n",
        "        elif trans2 == \"sigmoid\":\n",
        "            self.trans2 = tf.nn.relu\n",
        "        \n",
        "        ### define LSTM layer parameters (use Xavier initialization)\n",
        "        # u vectors (weighting vectors for inputs original inputs x)\n",
        "        self.Uz = self.add_variable(\"Uz\", shape=[self.input_dim, self.output_dim],\n",
        "                                    initializer = tf.contrib.layers.xavier_initializer())\n",
        "        self.Ug = self.add_variable(\"Ug\", shape=[self.input_dim ,self.output_dim],\n",
        "                                    initializer = tf.contrib.layers.xavier_initializer())\n",
        "        self.Ur = self.add_variable(\"Ur\", shape=[self.input_dim, self.output_dim],\n",
        "                                    initializer = tf.contrib.layers.xavier_initializer())\n",
        "        self.Uh = self.add_variable(\"Uh\", shape=[self.input_dim, self.output_dim],\n",
        "                                    initializer = tf.contrib.layers.xavier_initializer())\n",
        "        \n",
        "        # w vectors (weighting vectors for output of previous layer)        \n",
        "        self.Wz = self.add_variable(\"Wz\", shape=[self.output_dim, self.output_dim],\n",
        "                                    initializer = tf.contrib.layers.xavier_initializer())\n",
        "        self.Wg = self.add_variable(\"Wg\", shape=[self.output_dim, self.output_dim],\n",
        "                                    initializer = tf.contrib.layers.xavier_initializer())\n",
        "        self.Wr = self.add_variable(\"Wr\", shape=[self.output_dim, self.output_dim],\n",
        "                                    initializer = tf.contrib.layers.xavier_initializer())\n",
        "        self.Wh = self.add_variable(\"Wh\", shape=[self.output_dim, self.output_dim],\n",
        "                                    initializer = tf.contrib.layers.xavier_initializer())\n",
        "        \n",
        "        # bias vectors\n",
        "        self.bz = self.add_variable(\"bz\", shape=[1, self.output_dim])\n",
        "        self.bg = self.add_variable(\"bg\", shape=[1, self.output_dim])\n",
        "        self.br = self.add_variable(\"br\", shape=[1, self.output_dim])\n",
        "        self.bh = self.add_variable(\"bh\", shape=[1, self.output_dim])\n",
        "    \n",
        "    \n",
        "    # main function to be called \n",
        "    def call(self, S, X):\n",
        "        '''Compute output of a LSTMLayer for a given inputs S,X .    \n",
        "\n",
        "        Args:            \n",
        "            S: output of previous layer\n",
        "            X: data input\n",
        "        \n",
        "        Returns: customized Keras layer object used as intermediate layers in DGM\n",
        "        '''   \n",
        "        \n",
        "        # compute components of LSTM layer output (note H uses a separate activation function)\n",
        "        Z = self.trans1(tf.add(tf.add(tf.matmul(X,self.Uz), tf.matmul(S,self.Wz)), self.bz))\n",
        "        G = self.trans1(tf.add(tf.add(tf.matmul(X,self.Ug), tf.matmul(S, self.Wg)), self.bg))\n",
        "        R = self.trans1(tf.add(tf.add(tf.matmul(X,self.Ur), tf.matmul(S, self.Wr)), self.br))\n",
        "        \n",
        "        H = self.trans2(tf.add(tf.add(tf.matmul(X,self.Uh), tf.matmul(tf.multiply(S, R), self.Wh)), self.bh))\n",
        "        \n",
        "        # compute LSTM layer output\n",
        "        S_new = tf.add(tf.multiply(tf.subtract(tf.ones_like(G), G), H), tf.multiply(Z,S))\n",
        "        \n",
        "        return S_new\n",
        "\n",
        "#%% Fully connected (dense) layer - modification of Keras layer class\n",
        "   \n",
        "class DenseLayer(tf.keras.layers.Layer):\n",
        "    \n",
        "    # constructor/initializer function (automatically called when new instance of class is created)\n",
        "    def __init__(self, output_dim, input_dim, transformation=None):\n",
        "        '''\n",
        "        Args:\n",
        "            input_dim:       dimensionality of input data\n",
        "            output_dim:      number of outputs for dense layer\n",
        "            transformation:  activation function used inside the layer; using\n",
        "                             None is equivalent to the identity map \n",
        "        \n",
        "        Returns: customized Keras (fully connected) layer object \n",
        "        '''        \n",
        "        \n",
        "        # create an instance of a Layer object (call initialize function of superclass of DenseLayer)\n",
        "        super(DenseLayer,self).__init__()\n",
        "        self.output_dim = output_dim\n",
        "        self.input_dim = input_dim\n",
        "        \n",
        "        ### define dense layer parameters (use Xavier initialization)\n",
        "        # w vectors (weighting vectors for output of previous layer)\n",
        "        self.W = self.add_variable(\"W\", shape=[self.input_dim, self.output_dim],\n",
        "                                   initializer = tf.contrib.layers.xavier_initializer())\n",
        "        \n",
        "        # bias vectors\n",
        "        self.b = self.add_variable(\"b\", shape=[1, self.output_dim])\n",
        "        \n",
        "        if transformation:\n",
        "            if transformation == \"tanh\":\n",
        "                self.transformation = tf.tanh\n",
        "            elif transformation == \"relu\":\n",
        "                self.transformation = tf.nn.relu\n",
        "        else:\n",
        "            self.transformation = transformation\n",
        "    \n",
        "    \n",
        "    # main function to be called \n",
        "    def call(self,X):\n",
        "        '''Compute output of a dense layer for a given input X \n",
        "\n",
        "        Args:                        \n",
        "            X: input to layer            \n",
        "        '''\n",
        "        \n",
        "        # compute dense layer output\n",
        "        S = tf.add(tf.matmul(X, self.W), self.b)\n",
        "                \n",
        "        if self.transformation:\n",
        "            S = self.transformation(S)\n",
        "        \n",
        "        return S\n",
        "\n",
        "#%% Neural network architecture used in DGM - modification of Keras Model class\n",
        "    \n",
        "class DGMNet(tf.keras.Model):\n",
        "    # constructor/initializer function (automatically called when new instance of class is created)\n",
        "    def __init__(self, layer_width, n_layers, input_dim, final_trans=None):\n",
        "        '''\n",
        "        Args:\n",
        "            layer_width: \n",
        "            n_layers:    number of intermediate LSTM layers\n",
        "            input_dim:   spaital dimension of input data (EXCLUDES time dimension)\n",
        "            final_trans: transformation used in final layer\n",
        "        \n",
        "        Returns: customized Keras model object representing DGM neural network\n",
        "        '''  \n",
        "        \n",
        "        # create an instance of a Model object (call initialize function of superclass of DGMNet)\n",
        "        super(DGMNet,self).__init__()\n",
        "        \n",
        "        # define initial layer as fully connected \n",
        "        # NOTE: to account for time inputs we use input_dim+1 as the input dimensionality\n",
        "        self.initial_layer = DenseLayer(layer_width, input_dim, transformation = \"tanh\")\n",
        "        \n",
        "        # define intermediate LSTM layers\n",
        "        self.n_layers = n_layers\n",
        "        self.LSTMLayerList = []\n",
        "                \n",
        "        for _ in range(self.n_layers):\n",
        "            self.LSTMLayerList.append(LSTMLayer(layer_width, input_dim))\n",
        "        \n",
        "        # define final layer as fully connected with a single output (function value)\n",
        "        self.final_layer = DenseLayer(1, layer_width, transformation = final_trans)\n",
        "    \n",
        "    \n",
        "    # main function to be called  \n",
        "    def call(self,x,y,z):\n",
        "        '''            \n",
        "        Args:\n",
        "            t: sampled time inputs \n",
        "            x: sampled space inputs\n",
        "\n",
        "        Run the DGM model and obtain fitted function value at the inputs (t,x)                \n",
        "        '''  \n",
        "        \n",
        "        # define input vector as time-space pairs\n",
        "        X = tf.concat([x,y,z],1)\n",
        "        \n",
        "        # call initial layer\n",
        "        S = self.initial_layer.call(X)\n",
        "        \n",
        "        # call intermediate LSTM layers\n",
        "        for i in range(self.n_layers):\n",
        "            S = self.LSTMLayerList[i].call(S,X)\n",
        "        \n",
        "        # call final LSTM layers\n",
        "        result = self.final_layer.call(S)\n",
        "        \n",
        "        return result\n",
        "\n",
        "def Sampler(n_interior, n_boundary):\n",
        "\n",
        "    U = (np.random.uniform(low=0, high=1, size=[n_interior,1]))**(1/3)\n",
        "    \n",
        "    x_interior = np.random.randn(n_interior,1)\n",
        "    y_interior = np.random.randn(n_interior,1)\n",
        "    z_interior = np.random.randn(n_interior,1)\n",
        "    \n",
        "    mag = np.sqrt(x_interior**2+y_interior**2+z_interior**2)    \n",
        "    \n",
        "    x_interior = U*x_interior/mag\n",
        "    y_interior = U*y_interior/mag\n",
        "    z_interior = U*z_interior/mag\n",
        "    \n",
        "    s_interior=[x_interior, y_interior, z_interior]\n",
        "\n",
        "    x_boundary = np.random.randn(n_boundary,1)\n",
        "    y_boundary = np.random.randn(n_boundary,1)\n",
        "    z_boundary = np.random.randn(n_boundary,1)\n",
        "\n",
        "    mag = np.sqrt(x_boundary**2 + y_boundary**2 + z_boundary**2)  \n",
        "    \n",
        "    x_boundary = x_boundary/mag\n",
        "    y_boundary = y_boundary/mag\n",
        "    z_boundary = z_boundary/mag      \n",
        "\n",
        "    s_boundary=[x_boundary, y_boundary, z_boundary]\n",
        "\n",
        "    return s_interior, s_boundary\n",
        "\n",
        "def loss(model, x_interior_tnsr, y_interior_tnsr, z_interior_tnsr, x_boundary_tnsr, y_boundary_tnsr, z_boundary_tnsr):\n",
        "    ''' Compute total loss for training.\n",
        "    \n",
        "    Args:\n",
        "        model:      DGM model object\n",
        "        {x/y/z}_interior_tnsr:  tensors on the axis for the interior \n",
        "        {x/y/z}_boundary_tnsr: tensors on the axis for the boundary\n",
        "    ''' \n",
        "    \n",
        "    # Loss term #1: PDE\n",
        "    # compute function value and derivatives at current sampled points\n",
        "    k = 1e-6\n",
        "    U = tf.math.log(model(x_interior_tnsr, y_interior_tnsr, z_interior_tnsr))\n",
        "    U_x = tf.math.divide(tf.gradients(U, x_interior_tnsr)[0] ,tf.math.exp(U)+k)\n",
        "    U_xx = tf.math.divide(tf.gradients(U_x, x_interior_tnsr)[0] - tf.math.exp(U)*U_x**2 , tf.math.exp(U)+k)\n",
        "    U_y = tf.math.divide(tf.gradients(U, y_interior_tnsr)[0] ,tf.math.exp(U)+k)\n",
        "    U_yy = tf.math.divide(tf.gradients(U_y, y_interior_tnsr)[0] - tf.math.exp(U)*U_y**2 , tf.math.exp(U)+k)\n",
        "    U_z = tf.math.divide(tf.gradients(U, z_interior_tnsr)[0] ,tf.math.exp(U)+k)\n",
        "    U_zz = tf.math.divide(tf.gradients(U_z, z_interior_tnsr)[0] - tf.math.exp(U)*U_z**2 , tf.math.exp(U)+k)\n",
        "    diff_U = tf.math.exp(U)*U_x**2+tf.math.exp(U)*U_xx + tf.math.exp(U)*U_y**2+tf.math.exp(U)*U_yy +tf.math.exp(U)*U_z**2+tf.math.exp(U)*U_zz+ (tf.abs(tf.math.exp(U))**4)*tf.math.exp(U) + (tf.abs(tf.math.exp(U))**3)*tf.math.exp(U)\n",
        "\n",
        "    L1 = tf.reduce_mean(tf.square(diff_U),0) \n",
        "    \n",
        "    Ub = tf.math.log(model(x_boundary_tnsr, y_boundary_tnsr, z_boundary_tnsr))\n",
        "    L2 = tf.reduce_mean(tf.square(Ub),0)\n",
        "\n",
        "    '''\n",
        "    add 1/u to penalize.\n",
        "    '''\n",
        "    #L3 = tf.reduce_mean(tf.square(1/U),0)\n",
        "    '''\n",
        "    No Loss condition wrt to initial condition\n",
        "    '''\n",
        "    t = tf.concat([tf.math.exp(U)*U_x,tf.math.exp(U)*U_y,tf.math.exp(U)*U_z],0)\n",
        "    L4 = (tf.reduce_sum(tf.norm(t,2)**2))/2\n",
        "    L5 = -(tf.reduce_sum(tf.abs(tf.math.exp(U))**5))/5\n",
        "    L6 = -(tf.reduce_sum(tf.abs(tf.math.exp(U))**6))/6\n",
        "    return L4, L5, L6\n",
        "\n",
        "def train(epochs,n_interior,n_boundary):\n",
        "    for i in range(epochs):\n",
        "    \n",
        "        # sample uniformly from the required regions\n",
        "        interior_points, boundary_points = Sampler(n_interior, n_boundary)\n",
        "    \n",
        "        # for a given sample, take the required number of SGD steps\n",
        "        for _ in range(steps_per_sample):\n",
        "            loss,L1,L2,L3,_ = sess.run([loss_tnsr, L1_tnsr, L2_tnsr,L3_tnsr, optimizer],\n",
        "                                    feed_dict = {x_interior_tnsr:interior_points[0], y_interior_tnsr:interior_points[1], z_interior_tnsr:interior_points[2], x_boundary_tnsr:boundary_points[0], y_boundary_tnsr:boundary_points[1], z_boundary_tnsr:boundary_points[2]})\n",
        "    \n",
        "        print(f\"Epoch {i}: Loss={loss} Loss_Interior={L1} Loss_Boundary={L2} Loss_penalty={L3}\".format(i,float(loss),float(L1),float(L2),float(L3)))\n",
        "\n",
        "    return loss    \n",
        "\n",
        "def trueSolution(input):\n",
        "    x,y,z = input\n",
        "    sq = np.sqrt(x**2 + y**2 + z**2)\n",
        "    const = np.sqrt(2/np.pi)\n",
        "    ans = (1/(2*const))*(fresnel(const)[1] - fresnel(const*sq)[1]/sq)\n",
        "    return ans     \n",
        "\n",
        "def plot_true_vs_approx(DGM_soln,true_soln):\n",
        "    plt.style.use(['ggplot'])\n",
        "    plt.figure(figsize=(10,7))\n",
        "    plt.plot(x,DGM_soln,label=\"DGM\")\n",
        "    plt.plot(x,true_soln,label=\"True\")\n",
        "    plt.xlabel(\"X-Coordinate\")\n",
        "    plt.ylabel(\"Solution\")\n",
        "    plt.legend()\n"
      ],
      "execution_count": null,
      "outputs": [
        {
          "output_type": "stream",
          "text": [
            "TensorFlow 1.x selected.\n",
            "1.15.2\n"
          ],
          "name": "stdout"
        }
      ]
    },
    {
      "cell_type": "code",
      "metadata": {
        "id": "LpdJXbWfi3Cb"
      },
      "source": [
        "\n",
        "# Solution = sess.run([V], feed_dict= {x_interior_tnsr:x, y_interior_tnsr:y, z_interior_tnsr:z})\n",
        "# Solution = np.array(Solution[0])\n",
        "\n"
      ],
      "execution_count": null,
      "outputs": []
    },
    {
      "cell_type": "markdown",
      "metadata": {
        "id": "QiMffFkJmcAm"
      },
      "source": [
        "$p=2$ || $N=3$ || $q=5$ || $p^{*}=6$ || $\\lambda=1$"
      ]
    },
    {
      "cell_type": "markdown",
      "metadata": {
        "id": "POoGc0Xmu_Io"
      },
      "source": [
        "Creating the computation graph in TensorFlow"
      ]
    },
    {
      "cell_type": "code",
      "metadata": {
        "id": "9l-39dWaAaNq",
        "colab": {
          "base_uri": "https://localhost:8080/"
        },
        "outputId": "46ecc716-6788-4a3c-a1d7-a0bd9d2045f2"
      },
      "source": [
        "num_layers = 3\n",
        "nodes_per_layer = 50\n",
        "learning_rate = 0.001\n",
        "\n",
        "# Training parameters\n",
        "sampling_stages  = 100   # number of times to resample new time-space domain points\n",
        "steps_per_sample = 15    # number of SGD steps to take before re-sampling\n",
        "\n",
        "# Sampling parameters\n",
        "n_interior = 10000\n",
        "n_boundary = 10000\n",
        "# S_multiplier  = 1.5 \n",
        "\n",
        "\n",
        "model = DGMNet(nodes_per_layer, num_layers, 3)\n",
        "\n",
        "x_interior_tnsr = tf.placeholder(tf.float32, [None,1])\n",
        "y_interior_tnsr = tf.placeholder(tf.float32, [None,1])\n",
        "z_interior_tnsr = tf.placeholder(tf.float32, [None,1])\n",
        "x_boundary_tnsr = tf.placeholder(tf.float32, [None,1])\n",
        "y_boundary_tnsr = tf.placeholder(tf.float32, [None,1])\n",
        "z_boundary_tnsr = tf.placeholder(tf.float32, [None,1])\n",
        "\n",
        "\n",
        "L1_tnsr, L2_tnsr, L3_tnsr = loss(model, x_interior_tnsr, y_interior_tnsr, z_interior_tnsr, x_boundary_tnsr, y_boundary_tnsr, z_boundary_tnsr)\n",
        "\n",
        "loss_tnsr = tf.abs(L1_tnsr + L2_tnsr + L3_tnsr)\n",
        "\n",
        "V = model(x_interior_tnsr, y_interior_tnsr, z_interior_tnsr)\n",
        "\n",
        "optimizer = tf.train.AdamOptimizer(learning_rate=learning_rate).minimize(loss_tnsr)\n",
        "\n",
        "# initialize variables\n",
        "init_op = tf.global_variables_initializer()"
      ],
      "execution_count": null,
      "outputs": [
        {
          "output_type": "stream",
          "text": [
            "WARNING:tensorflow:\n",
            "The TensorFlow contrib module will not be included in TensorFlow 2.0.\n",
            "For more information, please see:\n",
            "  * https://github.com/tensorflow/community/blob/master/rfcs/20180907-contrib-sunset.md\n",
            "  * https://github.com/tensorflow/addons\n",
            "  * https://github.com/tensorflow/io (for I/O related ops)\n",
            "If you depend on functionality not listed there, please file an issue.\n",
            "\n",
            "WARNING:tensorflow:From <ipython-input-1-a1397e42d85a>:122: Layer.add_variable (from tensorflow.python.keras.engine.base_layer) is deprecated and will be removed in a future version.\n",
            "Instructions for updating:\n",
            "Please use `layer.add_weight` method instead.\n",
            "WARNING:tensorflow:From /tensorflow-1.15.2/python3.7/tensorflow_core/python/ops/resource_variable_ops.py:1630: calling BaseResourceVariable.__init__ (from tensorflow.python.ops.resource_variable_ops) with constraint is deprecated and will be removed in a future version.\n",
            "Instructions for updating:\n",
            "If using Keras pass *_constraint arguments to layers.\n",
            "WARNING:tensorflow:Entity <bound method DGMNet.call of <__main__.DGMNet object at 0x7f44eeb00a10>> could not be transformed and will be executed as-is. Please report this to the AutoGraph team. When filing the bug, set the verbosity to 10 (on Linux, `export AUTOGRAPH_VERBOSITY=10`) and attach the full output. Cause: module 'gast' has no attribute 'Num'\n",
            "WARNING: Entity <bound method DGMNet.call of <__main__.DGMNet object at 0x7f44eeb00a10>> could not be transformed and will be executed as-is. Please report this to the AutoGraph team. When filing the bug, set the verbosity to 10 (on Linux, `export AUTOGRAPH_VERBOSITY=10`) and attach the full output. Cause: module 'gast' has no attribute 'Num'\n",
            "WARNING:tensorflow:Entity <bound method DGMNet.call of <__main__.DGMNet object at 0x7f44eeb00a10>> could not be transformed and will be executed as-is. Please report this to the AutoGraph team. When filing the bug, set the verbosity to 10 (on Linux, `export AUTOGRAPH_VERBOSITY=10`) and attach the full output. Cause: module 'gast' has no attribute 'Num'\n",
            "WARNING: Entity <bound method DGMNet.call of <__main__.DGMNet object at 0x7f44eeb00a10>> could not be transformed and will be executed as-is. Please report this to the AutoGraph team. When filing the bug, set the verbosity to 10 (on Linux, `export AUTOGRAPH_VERBOSITY=10`) and attach the full output. Cause: module 'gast' has no attribute 'Num'\n",
            "WARNING:tensorflow:Entity <bound method DGMNet.call of <__main__.DGMNet object at 0x7f44eeb00a10>> could not be transformed and will be executed as-is. Please report this to the AutoGraph team. When filing the bug, set the verbosity to 10 (on Linux, `export AUTOGRAPH_VERBOSITY=10`) and attach the full output. Cause: module 'gast' has no attribute 'Num'\n",
            "WARNING: Entity <bound method DGMNet.call of <__main__.DGMNet object at 0x7f44eeb00a10>> could not be transformed and will be executed as-is. Please report this to the AutoGraph team. When filing the bug, set the verbosity to 10 (on Linux, `export AUTOGRAPH_VERBOSITY=10`) and attach the full output. Cause: module 'gast' has no attribute 'Num'\n",
            "WARNING:tensorflow:From /tensorflow-1.15.2/python3.7/tensorflow_core/python/ops/math_grad.py:1375: where (from tensorflow.python.ops.array_ops) is deprecated and will be removed in a future version.\n",
            "Instructions for updating:\n",
            "Use tf.where in 2.0, which has the same broadcast rule as np.where\n"
          ],
          "name": "stdout"
        }
      ]
    },
    {
      "cell_type": "code",
      "metadata": {
        "id": "FBztHb4W7jyG"
      },
      "source": [
        "from numpy import linalg as LA\n",
        "def conv_error(true_soln, approx_soln):\n",
        "    return LA.norm(true_soln-approx_soln)"
      ],
      "execution_count": null,
      "outputs": []
    },
    {
      "cell_type": "markdown",
      "metadata": {
        "id": "GWdYyfevE0kL"
      },
      "source": [
        "1) Save the model weights\n",
        "\n",
        "2) save the session(computation graph)\n",
        "\n",
        "**SAVE IN NSDE_deep**"
      ]
    },
    {
      "cell_type": "markdown",
      "metadata": {
        "id": "ePr1LYUa5gp1"
      },
      "source": [
        "$Laplace(x,y,z)=|u|^4u+|u|^3u$"
      ]
    },
    {
      "cell_type": "code",
      "metadata": {
        "id": "pLrXM-J4kktN",
        "colab": {
          "base_uri": "https://localhost:8080/",
          "height": 1000
        },
        "outputId": "b34bb726-02c1-4deb-ca79-5ae4e98aff62"
      },
      "source": [
        "#saver = tf.train.Saver(max_to_keep=1) \n",
        "sess=tf.Session()\n",
        "sess.run(init_op)\n",
        "loss=train(100,10,10)\n",
        "#savePath = saver.save(sess, './my_model.ckpt')\n"
      ],
      "execution_count": null,
      "outputs": [
        {
          "output_type": "stream",
          "text": [
            "Epoch 0: Loss=nan Loss_Interior=nan Loss_Boundary=nan Loss_penalty=nan\n",
            "Epoch 1: Loss=nan Loss_Interior=nan Loss_Boundary=nan Loss_penalty=nan\n",
            "Epoch 2: Loss=nan Loss_Interior=nan Loss_Boundary=nan Loss_penalty=nan\n",
            "Epoch 3: Loss=nan Loss_Interior=nan Loss_Boundary=nan Loss_penalty=nan\n",
            "Epoch 4: Loss=nan Loss_Interior=nan Loss_Boundary=nan Loss_penalty=nan\n",
            "Epoch 5: Loss=nan Loss_Interior=nan Loss_Boundary=nan Loss_penalty=nan\n",
            "Epoch 6: Loss=nan Loss_Interior=nan Loss_Boundary=nan Loss_penalty=nan\n",
            "Epoch 7: Loss=nan Loss_Interior=nan Loss_Boundary=nan Loss_penalty=nan\n",
            "Epoch 8: Loss=nan Loss_Interior=nan Loss_Boundary=nan Loss_penalty=nan\n",
            "Epoch 9: Loss=nan Loss_Interior=nan Loss_Boundary=nan Loss_penalty=nan\n",
            "Epoch 10: Loss=nan Loss_Interior=nan Loss_Boundary=nan Loss_penalty=nan\n",
            "Epoch 11: Loss=nan Loss_Interior=nan Loss_Boundary=nan Loss_penalty=nan\n",
            "Epoch 12: Loss=nan Loss_Interior=nan Loss_Boundary=nan Loss_penalty=nan\n",
            "Epoch 13: Loss=nan Loss_Interior=nan Loss_Boundary=nan Loss_penalty=nan\n",
            "Epoch 14: Loss=nan Loss_Interior=nan Loss_Boundary=nan Loss_penalty=nan\n",
            "Epoch 15: Loss=nan Loss_Interior=nan Loss_Boundary=nan Loss_penalty=nan\n",
            "Epoch 16: Loss=nan Loss_Interior=nan Loss_Boundary=nan Loss_penalty=nan\n",
            "Epoch 17: Loss=nan Loss_Interior=nan Loss_Boundary=nan Loss_penalty=nan\n",
            "Epoch 18: Loss=nan Loss_Interior=nan Loss_Boundary=nan Loss_penalty=nan\n",
            "Epoch 19: Loss=nan Loss_Interior=nan Loss_Boundary=nan Loss_penalty=nan\n",
            "Epoch 20: Loss=nan Loss_Interior=nan Loss_Boundary=nan Loss_penalty=nan\n",
            "Epoch 21: Loss=nan Loss_Interior=nan Loss_Boundary=nan Loss_penalty=nan\n",
            "Epoch 22: Loss=nan Loss_Interior=nan Loss_Boundary=nan Loss_penalty=nan\n",
            "Epoch 23: Loss=nan Loss_Interior=nan Loss_Boundary=nan Loss_penalty=nan\n",
            "Epoch 24: Loss=nan Loss_Interior=nan Loss_Boundary=nan Loss_penalty=nan\n",
            "Epoch 25: Loss=nan Loss_Interior=nan Loss_Boundary=nan Loss_penalty=nan\n",
            "Epoch 26: Loss=nan Loss_Interior=nan Loss_Boundary=nan Loss_penalty=nan\n",
            "Epoch 27: Loss=nan Loss_Interior=nan Loss_Boundary=nan Loss_penalty=nan\n",
            "Epoch 28: Loss=nan Loss_Interior=nan Loss_Boundary=nan Loss_penalty=nan\n",
            "Epoch 29: Loss=nan Loss_Interior=nan Loss_Boundary=nan Loss_penalty=nan\n",
            "Epoch 30: Loss=nan Loss_Interior=nan Loss_Boundary=nan Loss_penalty=nan\n",
            "Epoch 31: Loss=nan Loss_Interior=nan Loss_Boundary=nan Loss_penalty=nan\n",
            "Epoch 32: Loss=nan Loss_Interior=nan Loss_Boundary=nan Loss_penalty=nan\n",
            "Epoch 33: Loss=nan Loss_Interior=nan Loss_Boundary=nan Loss_penalty=nan\n",
            "Epoch 34: Loss=nan Loss_Interior=nan Loss_Boundary=nan Loss_penalty=nan\n",
            "Epoch 35: Loss=nan Loss_Interior=nan Loss_Boundary=nan Loss_penalty=nan\n",
            "Epoch 36: Loss=nan Loss_Interior=nan Loss_Boundary=nan Loss_penalty=nan\n",
            "Epoch 37: Loss=nan Loss_Interior=nan Loss_Boundary=nan Loss_penalty=nan\n",
            "Epoch 38: Loss=nan Loss_Interior=nan Loss_Boundary=nan Loss_penalty=nan\n",
            "Epoch 39: Loss=nan Loss_Interior=nan Loss_Boundary=nan Loss_penalty=nan\n"
          ],
          "name": "stdout"
        },
        {
          "output_type": "error",
          "ename": "KeyboardInterrupt",
          "evalue": "ignored",
          "traceback": [
            "\u001b[0;31m---------------------------------------------------------------------------\u001b[0m",
            "\u001b[0;31mKeyboardInterrupt\u001b[0m                         Traceback (most recent call last)",
            "\u001b[0;32m<ipython-input-7-22a315c4318e>\u001b[0m in \u001b[0;36m<module>\u001b[0;34m()\u001b[0m\n\u001b[1;32m      2\u001b[0m \u001b[0msess\u001b[0m\u001b[0;34m=\u001b[0m\u001b[0mtf\u001b[0m\u001b[0;34m.\u001b[0m\u001b[0mSession\u001b[0m\u001b[0;34m(\u001b[0m\u001b[0;34m)\u001b[0m\u001b[0;34m\u001b[0m\u001b[0;34m\u001b[0m\u001b[0m\n\u001b[1;32m      3\u001b[0m \u001b[0msess\u001b[0m\u001b[0;34m.\u001b[0m\u001b[0mrun\u001b[0m\u001b[0;34m(\u001b[0m\u001b[0minit_op\u001b[0m\u001b[0;34m)\u001b[0m\u001b[0;34m\u001b[0m\u001b[0;34m\u001b[0m\u001b[0m\n\u001b[0;32m----> 4\u001b[0;31m \u001b[0mloss\u001b[0m\u001b[0;34m=\u001b[0m\u001b[0mtrain\u001b[0m\u001b[0;34m(\u001b[0m\u001b[0;36m100\u001b[0m\u001b[0;34m,\u001b[0m\u001b[0;36m10\u001b[0m\u001b[0;34m,\u001b[0m\u001b[0;36m10\u001b[0m\u001b[0;34m)\u001b[0m\u001b[0;34m\u001b[0m\u001b[0;34m\u001b[0m\u001b[0m\n\u001b[0m\u001b[1;32m      5\u001b[0m \u001b[0;31m#savePath = saver.save(sess, './my_model.ckpt')\u001b[0m\u001b[0;34m\u001b[0m\u001b[0;34m\u001b[0m\u001b[0;34m\u001b[0m\u001b[0m\n",
            "\u001b[0;32m<ipython-input-1-a1397e42d85a>\u001b[0m in \u001b[0;36mtrain\u001b[0;34m(epochs, n_interior, n_boundary)\u001b[0m\n\u001b[1;32m    287\u001b[0m         \u001b[0;32mfor\u001b[0m \u001b[0m_\u001b[0m \u001b[0;32min\u001b[0m \u001b[0mrange\u001b[0m\u001b[0;34m(\u001b[0m\u001b[0msteps_per_sample\u001b[0m\u001b[0;34m)\u001b[0m\u001b[0;34m:\u001b[0m\u001b[0;34m\u001b[0m\u001b[0;34m\u001b[0m\u001b[0m\n\u001b[1;32m    288\u001b[0m             loss,L1,L2,L3,_ = sess.run([loss_tnsr, L1_tnsr, L2_tnsr,L3_tnsr, optimizer],\n\u001b[0;32m--> 289\u001b[0;31m                                     feed_dict = {x_interior_tnsr:interior_points[0], y_interior_tnsr:interior_points[1], z_interior_tnsr:interior_points[2], x_boundary_tnsr:boundary_points[0], y_boundary_tnsr:boundary_points[1], z_boundary_tnsr:boundary_points[2]})\n\u001b[0m\u001b[1;32m    290\u001b[0m \u001b[0;34m\u001b[0m\u001b[0m\n\u001b[1;32m    291\u001b[0m         \u001b[0mprint\u001b[0m\u001b[0;34m(\u001b[0m\u001b[0;34mf\"Epoch {i}: Loss={loss} Loss_Interior={L1} Loss_Boundary={L2} Loss_penalty={L3}\"\u001b[0m\u001b[0;34m.\u001b[0m\u001b[0mformat\u001b[0m\u001b[0;34m(\u001b[0m\u001b[0mi\u001b[0m\u001b[0;34m,\u001b[0m\u001b[0mfloat\u001b[0m\u001b[0;34m(\u001b[0m\u001b[0mloss\u001b[0m\u001b[0;34m)\u001b[0m\u001b[0;34m,\u001b[0m\u001b[0mfloat\u001b[0m\u001b[0;34m(\u001b[0m\u001b[0mL1\u001b[0m\u001b[0;34m)\u001b[0m\u001b[0;34m,\u001b[0m\u001b[0mfloat\u001b[0m\u001b[0;34m(\u001b[0m\u001b[0mL2\u001b[0m\u001b[0;34m)\u001b[0m\u001b[0;34m,\u001b[0m\u001b[0mfloat\u001b[0m\u001b[0;34m(\u001b[0m\u001b[0mL3\u001b[0m\u001b[0;34m)\u001b[0m\u001b[0;34m)\u001b[0m\u001b[0;34m)\u001b[0m\u001b[0;34m\u001b[0m\u001b[0;34m\u001b[0m\u001b[0m\n",
            "\u001b[0;32m/tensorflow-1.15.2/python3.7/tensorflow_core/python/client/session.py\u001b[0m in \u001b[0;36mrun\u001b[0;34m(self, fetches, feed_dict, options, run_metadata)\u001b[0m\n\u001b[1;32m    954\u001b[0m     \u001b[0;32mtry\u001b[0m\u001b[0;34m:\u001b[0m\u001b[0;34m\u001b[0m\u001b[0;34m\u001b[0m\u001b[0m\n\u001b[1;32m    955\u001b[0m       result = self._run(None, fetches, feed_dict, options_ptr,\n\u001b[0;32m--> 956\u001b[0;31m                          run_metadata_ptr)\n\u001b[0m\u001b[1;32m    957\u001b[0m       \u001b[0;32mif\u001b[0m \u001b[0mrun_metadata\u001b[0m\u001b[0;34m:\u001b[0m\u001b[0;34m\u001b[0m\u001b[0;34m\u001b[0m\u001b[0m\n\u001b[1;32m    958\u001b[0m         \u001b[0mproto_data\u001b[0m \u001b[0;34m=\u001b[0m \u001b[0mtf_session\u001b[0m\u001b[0;34m.\u001b[0m\u001b[0mTF_GetBuffer\u001b[0m\u001b[0;34m(\u001b[0m\u001b[0mrun_metadata_ptr\u001b[0m\u001b[0;34m)\u001b[0m\u001b[0;34m\u001b[0m\u001b[0;34m\u001b[0m\u001b[0m\n",
            "\u001b[0;32m/tensorflow-1.15.2/python3.7/tensorflow_core/python/client/session.py\u001b[0m in \u001b[0;36m_run\u001b[0;34m(self, handle, fetches, feed_dict, options, run_metadata)\u001b[0m\n\u001b[1;32m   1178\u001b[0m     \u001b[0;32mif\u001b[0m \u001b[0mfinal_fetches\u001b[0m \u001b[0;32mor\u001b[0m \u001b[0mfinal_targets\u001b[0m \u001b[0;32mor\u001b[0m \u001b[0;34m(\u001b[0m\u001b[0mhandle\u001b[0m \u001b[0;32mand\u001b[0m \u001b[0mfeed_dict_tensor\u001b[0m\u001b[0;34m)\u001b[0m\u001b[0;34m:\u001b[0m\u001b[0;34m\u001b[0m\u001b[0;34m\u001b[0m\u001b[0m\n\u001b[1;32m   1179\u001b[0m       results = self._do_run(handle, final_targets, final_fetches,\n\u001b[0;32m-> 1180\u001b[0;31m                              feed_dict_tensor, options, run_metadata)\n\u001b[0m\u001b[1;32m   1181\u001b[0m     \u001b[0;32melse\u001b[0m\u001b[0;34m:\u001b[0m\u001b[0;34m\u001b[0m\u001b[0;34m\u001b[0m\u001b[0m\n\u001b[1;32m   1182\u001b[0m       \u001b[0mresults\u001b[0m \u001b[0;34m=\u001b[0m \u001b[0;34m[\u001b[0m\u001b[0;34m]\u001b[0m\u001b[0;34m\u001b[0m\u001b[0;34m\u001b[0m\u001b[0m\n",
            "\u001b[0;32m/tensorflow-1.15.2/python3.7/tensorflow_core/python/client/session.py\u001b[0m in \u001b[0;36m_do_run\u001b[0;34m(self, handle, target_list, fetch_list, feed_dict, options, run_metadata)\u001b[0m\n\u001b[1;32m   1357\u001b[0m     \u001b[0;32mif\u001b[0m \u001b[0mhandle\u001b[0m \u001b[0;32mis\u001b[0m \u001b[0;32mNone\u001b[0m\u001b[0;34m:\u001b[0m\u001b[0;34m\u001b[0m\u001b[0;34m\u001b[0m\u001b[0m\n\u001b[1;32m   1358\u001b[0m       return self._do_call(_run_fn, feeds, fetches, targets, options,\n\u001b[0;32m-> 1359\u001b[0;31m                            run_metadata)\n\u001b[0m\u001b[1;32m   1360\u001b[0m     \u001b[0;32melse\u001b[0m\u001b[0;34m:\u001b[0m\u001b[0;34m\u001b[0m\u001b[0;34m\u001b[0m\u001b[0m\n\u001b[1;32m   1361\u001b[0m       \u001b[0;32mreturn\u001b[0m \u001b[0mself\u001b[0m\u001b[0;34m.\u001b[0m\u001b[0m_do_call\u001b[0m\u001b[0;34m(\u001b[0m\u001b[0m_prun_fn\u001b[0m\u001b[0;34m,\u001b[0m \u001b[0mhandle\u001b[0m\u001b[0;34m,\u001b[0m \u001b[0mfeeds\u001b[0m\u001b[0;34m,\u001b[0m \u001b[0mfetches\u001b[0m\u001b[0;34m)\u001b[0m\u001b[0;34m\u001b[0m\u001b[0;34m\u001b[0m\u001b[0m\n",
            "\u001b[0;32m/tensorflow-1.15.2/python3.7/tensorflow_core/python/client/session.py\u001b[0m in \u001b[0;36m_do_call\u001b[0;34m(self, fn, *args)\u001b[0m\n\u001b[1;32m   1363\u001b[0m   \u001b[0;32mdef\u001b[0m \u001b[0m_do_call\u001b[0m\u001b[0;34m(\u001b[0m\u001b[0mself\u001b[0m\u001b[0;34m,\u001b[0m \u001b[0mfn\u001b[0m\u001b[0;34m,\u001b[0m \u001b[0;34m*\u001b[0m\u001b[0margs\u001b[0m\u001b[0;34m)\u001b[0m\u001b[0;34m:\u001b[0m\u001b[0;34m\u001b[0m\u001b[0;34m\u001b[0m\u001b[0m\n\u001b[1;32m   1364\u001b[0m     \u001b[0;32mtry\u001b[0m\u001b[0;34m:\u001b[0m\u001b[0;34m\u001b[0m\u001b[0;34m\u001b[0m\u001b[0m\n\u001b[0;32m-> 1365\u001b[0;31m       \u001b[0;32mreturn\u001b[0m \u001b[0mfn\u001b[0m\u001b[0;34m(\u001b[0m\u001b[0;34m*\u001b[0m\u001b[0margs\u001b[0m\u001b[0;34m)\u001b[0m\u001b[0;34m\u001b[0m\u001b[0;34m\u001b[0m\u001b[0m\n\u001b[0m\u001b[1;32m   1366\u001b[0m     \u001b[0;32mexcept\u001b[0m \u001b[0merrors\u001b[0m\u001b[0;34m.\u001b[0m\u001b[0mOpError\u001b[0m \u001b[0;32mas\u001b[0m \u001b[0me\u001b[0m\u001b[0;34m:\u001b[0m\u001b[0;34m\u001b[0m\u001b[0;34m\u001b[0m\u001b[0m\n\u001b[1;32m   1367\u001b[0m       \u001b[0mmessage\u001b[0m \u001b[0;34m=\u001b[0m \u001b[0mcompat\u001b[0m\u001b[0;34m.\u001b[0m\u001b[0mas_text\u001b[0m\u001b[0;34m(\u001b[0m\u001b[0me\u001b[0m\u001b[0;34m.\u001b[0m\u001b[0mmessage\u001b[0m\u001b[0;34m)\u001b[0m\u001b[0;34m\u001b[0m\u001b[0;34m\u001b[0m\u001b[0m\n",
            "\u001b[0;32m/tensorflow-1.15.2/python3.7/tensorflow_core/python/client/session.py\u001b[0m in \u001b[0;36m_run_fn\u001b[0;34m(feed_dict, fetch_list, target_list, options, run_metadata)\u001b[0m\n\u001b[1;32m   1348\u001b[0m       \u001b[0mself\u001b[0m\u001b[0;34m.\u001b[0m\u001b[0m_extend_graph\u001b[0m\u001b[0;34m(\u001b[0m\u001b[0;34m)\u001b[0m\u001b[0;34m\u001b[0m\u001b[0;34m\u001b[0m\u001b[0m\n\u001b[1;32m   1349\u001b[0m       return self._call_tf_sessionrun(options, feed_dict, fetch_list,\n\u001b[0;32m-> 1350\u001b[0;31m                                       target_list, run_metadata)\n\u001b[0m\u001b[1;32m   1351\u001b[0m \u001b[0;34m\u001b[0m\u001b[0m\n\u001b[1;32m   1352\u001b[0m     \u001b[0;32mdef\u001b[0m \u001b[0m_prun_fn\u001b[0m\u001b[0;34m(\u001b[0m\u001b[0mhandle\u001b[0m\u001b[0;34m,\u001b[0m \u001b[0mfeed_dict\u001b[0m\u001b[0;34m,\u001b[0m \u001b[0mfetch_list\u001b[0m\u001b[0;34m)\u001b[0m\u001b[0;34m:\u001b[0m\u001b[0;34m\u001b[0m\u001b[0;34m\u001b[0m\u001b[0m\n",
            "\u001b[0;32m/tensorflow-1.15.2/python3.7/tensorflow_core/python/client/session.py\u001b[0m in \u001b[0;36m_call_tf_sessionrun\u001b[0;34m(self, options, feed_dict, fetch_list, target_list, run_metadata)\u001b[0m\n\u001b[1;32m   1441\u001b[0m     return tf_session.TF_SessionRun_wrapper(self._session, options, feed_dict,\n\u001b[1;32m   1442\u001b[0m                                             \u001b[0mfetch_list\u001b[0m\u001b[0;34m,\u001b[0m \u001b[0mtarget_list\u001b[0m\u001b[0;34m,\u001b[0m\u001b[0;34m\u001b[0m\u001b[0;34m\u001b[0m\u001b[0m\n\u001b[0;32m-> 1443\u001b[0;31m                                             run_metadata)\n\u001b[0m\u001b[1;32m   1444\u001b[0m \u001b[0;34m\u001b[0m\u001b[0m\n\u001b[1;32m   1445\u001b[0m   \u001b[0;32mdef\u001b[0m \u001b[0m_call_tf_sessionprun\u001b[0m\u001b[0;34m(\u001b[0m\u001b[0mself\u001b[0m\u001b[0;34m,\u001b[0m \u001b[0mhandle\u001b[0m\u001b[0;34m,\u001b[0m \u001b[0mfeed_dict\u001b[0m\u001b[0;34m,\u001b[0m \u001b[0mfetch_list\u001b[0m\u001b[0;34m)\u001b[0m\u001b[0;34m:\u001b[0m\u001b[0;34m\u001b[0m\u001b[0;34m\u001b[0m\u001b[0m\n",
            "\u001b[0;31mKeyboardInterrupt\u001b[0m: "
          ]
        }
      ]
    },
    {
      "cell_type": "markdown",
      "metadata": {
        "id": "AXSo9ZZCrwO-"
      },
      "source": [
        "The following cell must be executed to plot the solution"
      ]
    },
    {
      "cell_type": "code",
      "metadata": {
        "colab": {
          "base_uri": "https://localhost:8080/",
          "height": 789
        },
        "id": "L3C0G6nNpVuG",
        "outputId": "30b94681-d82c-4c73-938e-fa9564210f5a"
      },
      "source": [
        "import matplotlib.pyplot as plt\n",
        "import math\n",
        "x=np.reshape(np.linspace(-1,1),(-1,1))\n",
        "y=np.zeros_like(x)\n",
        "z=np.zeros_like(x)\n",
        "\n",
        "Solution = sess.run([V], feed_dict= {x_interior_tnsr:x, y_interior_tnsr:y, z_interior_tnsr:z})\n",
        "Solution = np.array(Solution[0])\n",
        "plt.style.use(['ggplot'])\n",
        "plt.style.use(['dark_background'])\n",
        "plt.figure(figsize=(10,7))\n",
        "plt.plot(x,np.exp(Solution))\n",
        "plt.xlabel(\"x-coordinate\")\n",
        "plt.ylabel(\"Solution\")"
      ],
      "execution_count": null,
      "outputs": [
        {
          "output_type": "error",
          "ename": "AttributeError",
          "evalue": "ignored",
          "traceback": [
            "\u001b[0;31m---------------------------------------------------------------------------\u001b[0m",
            "\u001b[0;31mAttributeError\u001b[0m                            Traceback (most recent call last)",
            "\u001b[0;32m<ipython-input-13-0dcb90a03589>\u001b[0m in \u001b[0;36m<module>\u001b[0;34m()\u001b[0m\n\u001b[1;32m     10\u001b[0m \u001b[0mplt\u001b[0m\u001b[0;34m.\u001b[0m\u001b[0mstyle\u001b[0m\u001b[0;34m.\u001b[0m\u001b[0muse\u001b[0m\u001b[0;34m(\u001b[0m\u001b[0;34m[\u001b[0m\u001b[0;34m'dark_background'\u001b[0m\u001b[0;34m]\u001b[0m\u001b[0;34m)\u001b[0m\u001b[0;34m\u001b[0m\u001b[0;34m\u001b[0m\u001b[0m\n\u001b[1;32m     11\u001b[0m \u001b[0mplt\u001b[0m\u001b[0;34m.\u001b[0m\u001b[0mfigure\u001b[0m\u001b[0;34m(\u001b[0m\u001b[0mfigsize\u001b[0m\u001b[0;34m=\u001b[0m\u001b[0;34m(\u001b[0m\u001b[0;36m10\u001b[0m\u001b[0;34m,\u001b[0m\u001b[0;36m7\u001b[0m\u001b[0;34m)\u001b[0m\u001b[0;34m)\u001b[0m\u001b[0;34m\u001b[0m\u001b[0;34m\u001b[0m\u001b[0m\n\u001b[0;32m---> 12\u001b[0;31m \u001b[0mplt\u001b[0m\u001b[0;34m.\u001b[0m\u001b[0mplot\u001b[0m\u001b[0;34m(\u001b[0m\u001b[0mx\u001b[0m\u001b[0;34m,\u001b[0m\u001b[0mtf\u001b[0m\u001b[0;34m.\u001b[0m\u001b[0mmath\u001b[0m\u001b[0;34m.\u001b[0m\u001b[0mexp\u001b[0m\u001b[0;34m(\u001b[0m\u001b[0mSolution\u001b[0m\u001b[0;34m)\u001b[0m\u001b[0;34m)\u001b[0m\u001b[0;34m\u001b[0m\u001b[0;34m\u001b[0m\u001b[0m\n\u001b[0m\u001b[1;32m     13\u001b[0m \u001b[0mplt\u001b[0m\u001b[0;34m.\u001b[0m\u001b[0mxlabel\u001b[0m\u001b[0;34m(\u001b[0m\u001b[0;34m\"x-coordinate\"\u001b[0m\u001b[0;34m)\u001b[0m\u001b[0;34m\u001b[0m\u001b[0;34m\u001b[0m\u001b[0m\n\u001b[1;32m     14\u001b[0m \u001b[0mplt\u001b[0m\u001b[0;34m.\u001b[0m\u001b[0mylabel\u001b[0m\u001b[0;34m(\u001b[0m\u001b[0;34m\"Solution\"\u001b[0m\u001b[0;34m)\u001b[0m\u001b[0;34m\u001b[0m\u001b[0;34m\u001b[0m\u001b[0m\n",
            "\u001b[0;32m/usr/local/lib/python3.7/dist-packages/matplotlib/pyplot.py\u001b[0m in \u001b[0;36mplot\u001b[0;34m(scalex, scaley, data, *args, **kwargs)\u001b[0m\n\u001b[1;32m   2761\u001b[0m     return gca().plot(\n\u001b[1;32m   2762\u001b[0m         *args, scalex=scalex, scaley=scaley, **({\"data\": data} if data\n\u001b[0;32m-> 2763\u001b[0;31m         is not None else {}), **kwargs)\n\u001b[0m\u001b[1;32m   2764\u001b[0m \u001b[0;34m\u001b[0m\u001b[0m\n\u001b[1;32m   2765\u001b[0m \u001b[0;34m\u001b[0m\u001b[0m\n",
            "\u001b[0;32m/usr/local/lib/python3.7/dist-packages/matplotlib/axes/_axes.py\u001b[0m in \u001b[0;36mplot\u001b[0;34m(self, scalex, scaley, data, *args, **kwargs)\u001b[0m\n\u001b[1;32m   1645\u001b[0m         \"\"\"\n\u001b[1;32m   1646\u001b[0m         \u001b[0mkwargs\u001b[0m \u001b[0;34m=\u001b[0m \u001b[0mcbook\u001b[0m\u001b[0;34m.\u001b[0m\u001b[0mnormalize_kwargs\u001b[0m\u001b[0;34m(\u001b[0m\u001b[0mkwargs\u001b[0m\u001b[0;34m,\u001b[0m \u001b[0mmlines\u001b[0m\u001b[0;34m.\u001b[0m\u001b[0mLine2D\u001b[0m\u001b[0;34m)\u001b[0m\u001b[0;34m\u001b[0m\u001b[0;34m\u001b[0m\u001b[0m\n\u001b[0;32m-> 1647\u001b[0;31m         \u001b[0mlines\u001b[0m \u001b[0;34m=\u001b[0m \u001b[0;34m[\u001b[0m\u001b[0;34m*\u001b[0m\u001b[0mself\u001b[0m\u001b[0;34m.\u001b[0m\u001b[0m_get_lines\u001b[0m\u001b[0;34m(\u001b[0m\u001b[0;34m*\u001b[0m\u001b[0margs\u001b[0m\u001b[0;34m,\u001b[0m \u001b[0mdata\u001b[0m\u001b[0;34m=\u001b[0m\u001b[0mdata\u001b[0m\u001b[0;34m,\u001b[0m \u001b[0;34m**\u001b[0m\u001b[0mkwargs\u001b[0m\u001b[0;34m)\u001b[0m\u001b[0;34m]\u001b[0m\u001b[0;34m\u001b[0m\u001b[0;34m\u001b[0m\u001b[0m\n\u001b[0m\u001b[1;32m   1648\u001b[0m         \u001b[0;32mfor\u001b[0m \u001b[0mline\u001b[0m \u001b[0;32min\u001b[0m \u001b[0mlines\u001b[0m\u001b[0;34m:\u001b[0m\u001b[0;34m\u001b[0m\u001b[0;34m\u001b[0m\u001b[0m\n\u001b[1;32m   1649\u001b[0m             \u001b[0mself\u001b[0m\u001b[0;34m.\u001b[0m\u001b[0madd_line\u001b[0m\u001b[0;34m(\u001b[0m\u001b[0mline\u001b[0m\u001b[0;34m)\u001b[0m\u001b[0;34m\u001b[0m\u001b[0;34m\u001b[0m\u001b[0m\n",
            "\u001b[0;32m/usr/local/lib/python3.7/dist-packages/matplotlib/axes/_base.py\u001b[0m in \u001b[0;36m__call__\u001b[0;34m(self, *args, **kwargs)\u001b[0m\n\u001b[1;32m    214\u001b[0m                 \u001b[0mthis\u001b[0m \u001b[0;34m+=\u001b[0m \u001b[0margs\u001b[0m\u001b[0;34m[\u001b[0m\u001b[0;36m0\u001b[0m\u001b[0;34m]\u001b[0m\u001b[0;34m,\u001b[0m\u001b[0;34m\u001b[0m\u001b[0;34m\u001b[0m\u001b[0m\n\u001b[1;32m    215\u001b[0m                 \u001b[0margs\u001b[0m \u001b[0;34m=\u001b[0m \u001b[0margs\u001b[0m\u001b[0;34m[\u001b[0m\u001b[0;36m1\u001b[0m\u001b[0;34m:\u001b[0m\u001b[0;34m]\u001b[0m\u001b[0;34m\u001b[0m\u001b[0;34m\u001b[0m\u001b[0m\n\u001b[0;32m--> 216\u001b[0;31m             \u001b[0;32myield\u001b[0m \u001b[0;32mfrom\u001b[0m \u001b[0mself\u001b[0m\u001b[0;34m.\u001b[0m\u001b[0m_plot_args\u001b[0m\u001b[0;34m(\u001b[0m\u001b[0mthis\u001b[0m\u001b[0;34m,\u001b[0m \u001b[0mkwargs\u001b[0m\u001b[0;34m)\u001b[0m\u001b[0;34m\u001b[0m\u001b[0;34m\u001b[0m\u001b[0m\n\u001b[0m\u001b[1;32m    217\u001b[0m \u001b[0;34m\u001b[0m\u001b[0m\n\u001b[1;32m    218\u001b[0m     \u001b[0;32mdef\u001b[0m \u001b[0mget_next_color\u001b[0m\u001b[0;34m(\u001b[0m\u001b[0mself\u001b[0m\u001b[0;34m)\u001b[0m\u001b[0;34m:\u001b[0m\u001b[0;34m\u001b[0m\u001b[0;34m\u001b[0m\u001b[0m\n",
            "\u001b[0;32m/usr/local/lib/python3.7/dist-packages/matplotlib/axes/_base.py\u001b[0m in \u001b[0;36m_plot_args\u001b[0;34m(self, tup, kwargs)\u001b[0m\n\u001b[1;32m    330\u001b[0m         \u001b[0;32mif\u001b[0m \u001b[0mlen\u001b[0m\u001b[0;34m(\u001b[0m\u001b[0mtup\u001b[0m\u001b[0;34m)\u001b[0m \u001b[0;34m==\u001b[0m \u001b[0;36m2\u001b[0m\u001b[0;34m:\u001b[0m\u001b[0;34m\u001b[0m\u001b[0;34m\u001b[0m\u001b[0m\n\u001b[1;32m    331\u001b[0m             \u001b[0mx\u001b[0m \u001b[0;34m=\u001b[0m \u001b[0m_check_1d\u001b[0m\u001b[0;34m(\u001b[0m\u001b[0mtup\u001b[0m\u001b[0;34m[\u001b[0m\u001b[0;36m0\u001b[0m\u001b[0;34m]\u001b[0m\u001b[0;34m)\u001b[0m\u001b[0;34m\u001b[0m\u001b[0;34m\u001b[0m\u001b[0m\n\u001b[0;32m--> 332\u001b[0;31m             \u001b[0my\u001b[0m \u001b[0;34m=\u001b[0m \u001b[0m_check_1d\u001b[0m\u001b[0;34m(\u001b[0m\u001b[0mtup\u001b[0m\u001b[0;34m[\u001b[0m\u001b[0;34m-\u001b[0m\u001b[0;36m1\u001b[0m\u001b[0;34m]\u001b[0m\u001b[0;34m)\u001b[0m\u001b[0;34m\u001b[0m\u001b[0;34m\u001b[0m\u001b[0m\n\u001b[0m\u001b[1;32m    333\u001b[0m         \u001b[0;32melse\u001b[0m\u001b[0;34m:\u001b[0m\u001b[0;34m\u001b[0m\u001b[0;34m\u001b[0m\u001b[0m\n\u001b[1;32m    334\u001b[0m             \u001b[0mx\u001b[0m\u001b[0;34m,\u001b[0m \u001b[0my\u001b[0m \u001b[0;34m=\u001b[0m \u001b[0mindex_of\u001b[0m\u001b[0;34m(\u001b[0m\u001b[0mtup\u001b[0m\u001b[0;34m[\u001b[0m\u001b[0;34m-\u001b[0m\u001b[0;36m1\u001b[0m\u001b[0;34m]\u001b[0m\u001b[0;34m)\u001b[0m\u001b[0;34m\u001b[0m\u001b[0;34m\u001b[0m\u001b[0m\n",
            "\u001b[0;32m/usr/local/lib/python3.7/dist-packages/matplotlib/cbook/__init__.py\u001b[0m in \u001b[0;36m_check_1d\u001b[0;34m(x)\u001b[0m\n\u001b[1;32m   1347\u001b[0m                     message='Support for multi-dimensional indexing')\n\u001b[1;32m   1348\u001b[0m \u001b[0;34m\u001b[0m\u001b[0m\n\u001b[0;32m-> 1349\u001b[0;31m                 \u001b[0mndim\u001b[0m \u001b[0;34m=\u001b[0m \u001b[0mx\u001b[0m\u001b[0;34m[\u001b[0m\u001b[0;34m:\u001b[0m\u001b[0;34m,\u001b[0m \u001b[0;32mNone\u001b[0m\u001b[0;34m]\u001b[0m\u001b[0;34m.\u001b[0m\u001b[0mndim\u001b[0m\u001b[0;34m\u001b[0m\u001b[0;34m\u001b[0m\u001b[0m\n\u001b[0m\u001b[1;32m   1350\u001b[0m                 \u001b[0;31m# we have definitely hit a pandas index or series object\u001b[0m\u001b[0;34m\u001b[0m\u001b[0;34m\u001b[0m\u001b[0;34m\u001b[0m\u001b[0m\n\u001b[1;32m   1351\u001b[0m                 \u001b[0;31m# cast to a numpy array.\u001b[0m\u001b[0;34m\u001b[0m\u001b[0;34m\u001b[0m\u001b[0;34m\u001b[0m\u001b[0m\n",
            "\u001b[0;31mAttributeError\u001b[0m: 'Tensor' object has no attribute 'ndim'"
          ]
        },
        {
          "output_type": "display_data",
          "data": {
            "image/png": "[encoded data removed]",
            "text/plain": [
              "<Figure size 720x504 with 1 Axes>"
            ]
          },
          "metadata": {
            "tags": []
          }
        }
      ]
    },
    {
      "cell_type": "markdown",
      "metadata": {
        "id": "o0xOijgIG9G_"
      },
      "source": [
        "1) plot U vs x,y,z\n",
        "\n",
        "\n",
        "\n",
        "How important is sampling?\n",
        "\n",
        "How actual results differs numerical results?\n",
        "\n",
        "Look for convergence and possibly its order"
      ]
    },
    {
      "cell_type": "code",
      "metadata": {
        "id": "BaIQ6qoeTHya"
      },
      "source": [
        "plot(Sol,ts)"
      ],
      "execution_count": null,
      "outputs": []
    },
    {
      "cell_type": "markdown",
      "metadata": {
        "id": "zvwtodWI1iE4"
      },
      "source": [
        "![image.png](data:image/png;base64,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)"
      ]
    }
  ]
}