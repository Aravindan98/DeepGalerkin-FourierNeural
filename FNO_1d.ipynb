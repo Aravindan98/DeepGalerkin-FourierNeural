{
  "nbformat": 4,
  "nbformat_minor": 0,
  "metadata": {
    "colab": {
      "name": "FNO_1d.ipynb",
      "provenance": [],
      "mount_file_id": "1BIpmF3LJd-rjIAmdVUjOaAq63K2t3m08",
      "authorship_tag": "ABX9TyMp38hNEK95O48ubepERB45",
      "include_colab_link": true
    },
    "kernelspec": {
      "name": "python3",
      "display_name": "Python 3"
    },
    "accelerator": "GPU"
  },
  "cells": [
    {
      "cell_type": "markdown",
      "metadata": {
        "id": "view-in-github",
        "colab_type": "text"
      },
      "source": [
        "<a href=\"https://colab.research.google.com/github/Aravindan98/DeepGalerkin-FourierNeural/blob/main/FNO_1d.ipynb\" target=\"_parent\"><img src=\"https://colab.research.google.com/assets/colab-badge.svg\" alt=\"Open In Colab\"/></a>"
      ]
    },
    {
      "cell_type": "code",
      "metadata": {
        "colab": {
          "base_uri": "https://localhost:8080/"
        },
        "id": "qxJUCfTxMyeE",
        "outputId": "43458fad-7406-495f-b205-a6ada742a09f"
      },
      "source": [
        "%cd /content/drive/MyDrive/NSDE_Deep/FNO"
      ],
      "execution_count": null,
      "outputs": [
        {
          "output_type": "stream",
          "text": [
            "/content/drive/MyDrive/NSDE_Deep/FNO\n"
          ],
          "name": "stdout"
        }
      ]
    },
    {
      "cell_type": "code",
      "metadata": {
        "colab": {
          "base_uri": "https://localhost:8080/"
        },
        "id": "TDxfbQA9ymVj",
        "outputId": "4241ef62-43c9-418a-f6c1-b03c8d0ba7bc"
      },
      "source": [
        "#RUN this cell as torch.rfft is deprecated with torch 1.8.0\n",
        "!pip install torch==1.7.0"
      ],
      "execution_count": null,
      "outputs": [
        {
          "output_type": "stream",
          "text": [
            "Collecting torch==1.7.0\n",
            "\u001b[?25l  Downloading https://files.pythonhosted.org/packages/d9/74/d52c014fbfb50aefc084d2bf5ffaa0a8456f69c586782b59f93ef45e2da9/torch-1.7.0-cp37-cp37m-manylinux1_x86_64.whl (776.7MB)\n",
            "\u001b[K     |████████████████████████████████| 776.8MB 23kB/s \n",
            "\u001b[?25hRequirement already satisfied: numpy in /usr/local/lib/python3.7/dist-packages (from torch==1.7.0) (1.19.5)\n",
            "Collecting dataclasses\n",
            "  Downloading https://files.pythonhosted.org/packages/26/2f/1095cdc2868052dd1e64520f7c0d5c8c550ad297e944e641dbf1ffbb9a5d/dataclasses-0.6-py3-none-any.whl\n",
            "Requirement already satisfied: future in /usr/local/lib/python3.7/dist-packages (from torch==1.7.0) (0.16.0)\n",
            "Requirement already satisfied: typing-extensions in /usr/local/lib/python3.7/dist-packages (from torch==1.7.0) (3.7.4.3)\n",
            "\u001b[31mERROR: torchvision 0.9.0+cu101 has requirement torch==1.8.0, but you'll have torch 1.7.0 which is incompatible.\u001b[0m\n",
            "\u001b[31mERROR: torchtext 0.9.0 has requirement torch==1.8.0, but you'll have torch 1.7.0 which is incompatible.\u001b[0m\n",
            "Installing collected packages: dataclasses, torch\n",
            "  Found existing installation: torch 1.3.0\n",
            "    Uninstalling torch-1.3.0:\n",
            "      Successfully uninstalled torch-1.3.0\n",
            "Successfully installed dataclasses-0.6 torch-1.7.0\n"
          ],
          "name": "stdout"
        }
      ]
    },
    {
      "cell_type": "code",
      "metadata": {
        "colab": {
          "base_uri": "https://localhost:8080/"
        },
        "id": "3bc7aNWUuxkC",
        "outputId": "a5719e3d-e954-42c6-9a97-943b686a2dd2"
      },
      "source": [
        "!ls"
      ],
      "execution_count": null,
      "outputs": [
        {
          "output_type": "stream",
          "text": [
            "burgers_data_R10.mat  fourier_3d.py\t       lowrank_3d.py\n",
            "data_generation       fourier_neural_operator  __pycache__\n",
            "Datasets\t      LICENSE\t\t       README.md\n",
            "fourier_1d.py\t      lowrank_1d.py\t       scripts\n",
            "fourier_2d.py\t      lowrank_2d.py\t       utilities3.py\n",
            "fourier_2d_time.py    lowrank_2d_time.py\n"
          ],
          "name": "stdout"
        }
      ]
    },
    {
      "cell_type": "code",
      "metadata": {
        "colab": {
          "base_uri": "https://localhost:8080/",
          "height": 17
        },
        "id": "AEh5QtbjrqzM",
        "outputId": "1a4d6526-30bf-4346-c3e5-81467f50259e"
      },
      "source": [
        "# Run this cell only if the dataset isn't loaded in your directory\n",
        "from google.colab import files\n",
        "files.download(\"/content/drive/MyDrive/NSDE_Deep/FNO/burgers_data_R10.mat\")"
      ],
      "execution_count": null,
      "outputs": [
        {
          "output_type": "display_data",
          "data": {
            "application/javascript": [
              "\n",
              "    async function download(id, filename, size) {\n",
              "      if (!google.colab.kernel.accessAllowed) {\n",
              "        return;\n",
              "      }\n",
              "      const div = document.createElement('div');\n",
              "      const label = document.createElement('label');\n",
              "      label.textContent = `Downloading \"${filename}\": `;\n",
              "      div.appendChild(label);\n",
              "      const progress = document.createElement('progress');\n",
              "      progress.max = size;\n",
              "      div.appendChild(progress);\n",
              "      document.body.appendChild(div);\n",
              "\n",
              "      const buffers = [];\n",
              "      let downloaded = 0;\n",
              "\n",
              "      const channel = await google.colab.kernel.comms.open(id);\n",
              "      // Send a message to notify the kernel that we're ready.\n",
              "      channel.send({})\n",
              "\n",
              "      for await (const message of channel.messages) {\n",
              "        // Send a message to notify the kernel that we're ready.\n",
              "        channel.send({})\n",
              "        if (message.buffers) {\n",
              "          for (const buffer of message.buffers) {\n",
              "            buffers.push(buffer);\n",
              "            downloaded += buffer.byteLength;\n",
              "            progress.value = downloaded;\n",
              "          }\n",
              "        }\n",
              "      }\n",
              "      const blob = new Blob(buffers, {type: 'application/binary'});\n",
              "      const a = document.createElement('a');\n",
              "      a.href = window.URL.createObjectURL(blob);\n",
              "      a.download = filename;\n",
              "      div.appendChild(a);\n",
              "      a.click();\n",
              "      div.remove();\n",
              "    }\n",
              "  "
            ],
            "text/plain": [
              "<IPython.core.display.Javascript object>"
            ]
          },
          "metadata": {
            "tags": []
          }
        },
        {
          "output_type": "display_data",
          "data": {
            "application/javascript": [
              "download(\"download_91735e24-8091-4ee7-ae63-d2c3728cab6c\", \"burgers_data_R10.mat\", 644427710)"
            ],
            "text/plain": [
              "<IPython.core.display.Javascript object>"
            ]
          },
          "metadata": {
            "tags": []
          }
        }
      ]
    },
    {
      "cell_type": "code",
      "metadata": {
        "colab": {
          "base_uri": "https://localhost:8080/"
        },
        "id": "mCsXHeF9x_38",
        "outputId": "90741a19-4ba0-47a4-b0f9-9d8c5f8ce57e"
      },
      "source": [
        "import torch\n",
        "print(torch.__version__)"
      ],
      "execution_count": null,
      "outputs": [
        {
          "output_type": "stream",
          "text": [
            "1.7.0\n"
          ],
          "name": "stdout"
        }
      ]
    },
    {
      "cell_type": "code",
      "metadata": {
        "colab": {
          "base_uri": "https://localhost:8080/"
        },
        "id": "sODh11J3NIUC",
        "outputId": "23d6a2a5-823b-4b7a-9998-1c7582e1edf1"
      },
      "source": [
        "\"\"\"\n",
        "@author: Zongyi Li\n",
        "This file is the Fourier Neural Operator for 1D problem such as the (time-independent) Burgers equation discussed in Section 5.1 in the [paper](https://arxiv.org/pdf/2010.08895.pdf).\n",
        "\"\"\"\n",
        "\n",
        "import numpy as np\n",
        "import torch\n",
        "import torch.nn as nn\n",
        "import torch.nn.functional as F\n",
        "from torch.nn.parameter import Parameter\n",
        "import matplotlib.pyplot as plt\n",
        "\n",
        "import operator\n",
        "from functools import reduce\n",
        "from functools import partial\n",
        "from timeit import default_timer\n",
        "from utilities3 import *\n",
        "\n",
        "torch.manual_seed(0)\n",
        "np.random.seed(0)\n",
        "\n",
        "#Complex multiplication\n",
        "def compl_mul1d(a, b):\n",
        "    # (batch, in_channel, x ), (in_channel, out_channel, x) -> (batch, out_channel, x)\n",
        "    op = partial(torch.einsum, \"bix,iox->box\")\n",
        "    return torch.stack([\n",
        "        op(a[..., 0], b[..., 0]) - op(a[..., 1], b[..., 1]),\n",
        "        op(a[..., 1], b[..., 0]) + op(a[..., 0], b[..., 1])\n",
        "    ], dim=-1)\n",
        "\n",
        "################################################################\n",
        "#  1d fourier layer\n",
        "################################################################\n",
        "class SpectralConv1d(nn.Module):\n",
        "    def __init__(self, in_channels, out_channels, modes1):\n",
        "        super(SpectralConv1d, self).__init__()\n",
        "\n",
        "        \"\"\"\n",
        "        1D Fourier layer. It does FFT, linear transform, and Inverse FFT.    \n",
        "        \"\"\"\n",
        "\n",
        "        self.in_channels = in_channels\n",
        "        self.out_channels = out_channels\n",
        "        self.modes1 = modes1  #Number of Fourier modes to multiply, at most floor(N/2) + 1\n",
        "\n",
        "        self.scale = (1 / (in_channels*out_channels))\n",
        "        self.weights1 = nn.Parameter(self.scale * torch.rand(in_channels, out_channels, self.modes1, 2))\n",
        "\n",
        "    def forward(self, x):\n",
        "        batchsize = x.shape[0]\n",
        "        #Compute Fourier coeffcients up to factor of e^(- something constant)\n",
        "        x_ft = torch.rfft(x, 1, normalized=True, onesided=True)\n",
        "\n",
        "        # Multiply relevant Fourier modes\n",
        "        out_ft = torch.zeros(batchsize, self.in_channels, x.size(-1)//2 + 1, 2, device=x.device)\n",
        "        out_ft[:, :, :self.modes1] = compl_mul1d(x_ft[:, :, :self.modes1], self.weights1)\n",
        "\n",
        "        #Return to physical space\n",
        "        x = torch.irfft(out_ft, 1, normalized=True, onesided=True, signal_sizes=(x.size(-1), ))\n",
        "        return x\n",
        "\n",
        "class SimpleBlock1d(nn.Module):\n",
        "    def __init__(self, modes, width):\n",
        "        super(SimpleBlock1d, self).__init__()\n",
        "\n",
        "        \"\"\"\n",
        "        The overall network. It contains 4 layers of the Fourier layer.\n",
        "        1. Lift the input to the desire channel dimension by self.fc0 .\n",
        "        2. 4 layers of the integral operators u' = (W + K)(u).\n",
        "            W defined by self.w; K defined by self.conv .\n",
        "        3. Project from the channel space to the output space by self.fc1 and self.fc2 .\n",
        "        \n",
        "        input: the solution of the initial condition and location (a(x), x)\n",
        "        input shape: (batchsize, x=s, c=2)\n",
        "        output: the solution of a later timestep\n",
        "        output shape: (batchsize, x=s, c=1)\n",
        "        \"\"\"\n",
        "\n",
        "        self.modes1 = modes\n",
        "        self.width = width\n",
        "        self.fc0 = nn.Linear(2, self.width) # input channel is 2: (a(x), x)\n",
        "\n",
        "        self.conv0 = SpectralConv1d(self.width, self.width, self.modes1)\n",
        "        self.conv1 = SpectralConv1d(self.width, self.width, self.modes1)\n",
        "        self.conv2 = SpectralConv1d(self.width, self.width, self.modes1)\n",
        "        self.conv3 = SpectralConv1d(self.width, self.width, self.modes1)\n",
        "        self.w0 = nn.Conv1d(self.width, self.width, 1)\n",
        "        self.w1 = nn.Conv1d(self.width, self.width, 1)\n",
        "        self.w2 = nn.Conv1d(self.width, self.width, 1)\n",
        "        self.w3 = nn.Conv1d(self.width, self.width, 1)\n",
        "\n",
        "\n",
        "        self.fc1 = nn.Linear(self.width, 128)\n",
        "        self.fc2 = nn.Linear(128, 1)\n",
        "\n",
        "    def forward(self, x):\n",
        "\n",
        "        x = self.fc0(x)\n",
        "        x = x.permute(0, 2, 1)\n",
        "\n",
        "        x1 = self.conv0(x)\n",
        "        x2 = self.w0(x)\n",
        "        x = x1 + x2\n",
        "        x = F.relu(x)\n",
        "\n",
        "        x1 = self.conv1(x)\n",
        "        x2 = self.w1(x)\n",
        "        x = x1 + x2\n",
        "        x = F.relu(x)\n",
        "\n",
        "        x1 = self.conv2(x)\n",
        "        x2 = self.w2(x)\n",
        "        x = x1 + x2\n",
        "        x = F.relu(x)\n",
        "\n",
        "        x1 = self.conv3(x)\n",
        "        x2 = self.w3(x)\n",
        "        x = x1 + x2\n",
        "\n",
        "        x = x.permute(0, 2, 1)\n",
        "        x = self.fc1(x)\n",
        "        x = F.relu(x)\n",
        "        x = self.fc2(x)\n",
        "        return x\n",
        "\n",
        "class Net1d(nn.Module):\n",
        "    def __init__(self, modes, width):\n",
        "        super(Net1d, self).__init__()\n",
        "\n",
        "        \"\"\"\n",
        "        A wrapper function\n",
        "        \"\"\"\n",
        "\n",
        "        self.conv1 = SimpleBlock1d(modes, width)\n",
        "\n",
        "\n",
        "    def forward(self, x):\n",
        "        x = self.conv1(x)\n",
        "        return x.squeeze()\n",
        "\n",
        "    def count_params(self):\n",
        "        c = 0\n",
        "        for p in self.parameters():\n",
        "            c += reduce(operator.mul, list(p.size()))\n",
        "\n",
        "        return c\n",
        "\n",
        "\n",
        "################################################################\n",
        "#  configurations\n",
        "################################################################\n",
        "ntrain = 1000\n",
        "ntest = 100\n",
        "\n",
        "sub = 2**3 #subsampling rate\n",
        "h = 2**13 // sub #total grid size divided by the subsampling rate\n",
        "s = h\n",
        "\n",
        "batch_size = 20\n",
        "learning_rate = 0.001\n",
        "\n",
        "epochs = 50\n",
        "step_size = 100\n",
        "gamma = 0.5\n",
        "\n",
        "modes = 16\n",
        "width = 64\n",
        "\n",
        "\n",
        "################################################################\n",
        "# read data\n",
        "################################################################\n",
        "\n",
        "# Data is of the shape (number of samples, grid size)\n",
        "dataloader = MatReader('burgers_data_R10.mat')\n",
        "x_data = dataloader.read_field('a')[:,::sub]\n",
        "y_data = dataloader.read_field('u')[:,::sub]\n",
        "\n",
        "x_train = x_data[:ntrain,:]\n",
        "y_train = y_data[:ntrain,:]\n",
        "x_test = x_data[-ntest:,:]\n",
        "y_test = y_data[-ntest:,:]\n",
        "\n",
        "# cat the locations information\n",
        "grid = np.linspace(0, 2*np.pi, s).reshape(1, s, 1)\n",
        "grid = torch.tensor(grid, dtype=torch.float)\n",
        "x_train = torch.cat([x_train.reshape(ntrain,s,1), grid.repeat(ntrain,1,1)], dim=2)\n",
        "x_test = torch.cat([x_test.reshape(ntest,s,1), grid.repeat(ntest,1,1)], dim=2)\n",
        "\n",
        "train_loader = torch.utils.data.DataLoader(torch.utils.data.TensorDataset(x_train, y_train), batch_size=batch_size, shuffle=True)\n",
        "test_loader = torch.utils.data.DataLoader(torch.utils.data.TensorDataset(x_test, y_test), batch_size=batch_size, shuffle=False)\n",
        "\n",
        "# model\n",
        "model = Net1d(modes, width).cuda()\n",
        "print(model.count_params())\n",
        "\n",
        "\n",
        "################################################################\n",
        "# training and evaluation\n",
        "################################################################\n",
        "optimizer = torch.optim.Adam(model.parameters(), lr=learning_rate, weight_decay=1e-4)\n",
        "scheduler = torch.optim.lr_scheduler.StepLR(optimizer, step_size=step_size, gamma=gamma)\n",
        "\n",
        "myloss = LpLoss(size_average=False)\n",
        "\n",
        "# scipy.io.savemat('pred/burger_test.mat', mdict={'pred': pred.cpu().numpy()})\n"
      ],
      "execution_count": null,
      "outputs": [
        {
          "output_type": "stream",
          "text": [
            "549569\n"
          ],
          "name": "stdout"
        }
      ]
    },
    {
      "cell_type": "code",
      "metadata": {
        "colab": {
          "base_uri": "https://localhost:8080/"
        },
        "id": "jFkXEFYF9qSk",
        "outputId": "69a9420b-0b58-48aa-cf34-3610564de8b7"
      },
      "source": [
        "print(x_data)"
      ],
      "execution_count": null,
      "outputs": [
        {
          "output_type": "stream",
          "text": [
            "tensor([[ 0.8354,  0.8348,  0.8340,  ...,  0.8364,  0.8362,  0.8359],\n",
            "        [ 0.4741,  0.4723,  0.4707,  ...,  0.4804,  0.4781,  0.4760],\n",
            "        [-0.3802, -0.3849, -0.3898,  ..., -0.3669, -0.3711, -0.3756],\n",
            "        ...,\n",
            "        [ 0.1403,  0.1325,  0.1248,  ...,  0.1638,  0.1559,  0.1481],\n",
            "        [ 0.5331,  0.5294,  0.5256,  ...,  0.5438,  0.5403,  0.5367],\n",
            "        [ 1.4525,  1.4468,  1.4407,  ...,  1.4671,  1.4626,  1.4578]])\n"
          ],
          "name": "stdout"
        }
      ]
    },
    {
      "cell_type": "code",
      "metadata": {
        "colab": {
          "base_uri": "https://localhost:8080/"
        },
        "id": "gJnyjvGg4Tbd",
        "outputId": "ec4ad4a3-5ad6-484a-bd50-cea8273ab1e8"
      },
      "source": [
        "print(x_data.shape,y_data.shape)\n",
        "print(x_train.shape,y_train.shape)"
      ],
      "execution_count": null,
      "outputs": [
        {
          "output_type": "stream",
          "text": [
            "torch.Size([2048, 1024]) torch.Size([2048, 1024])\n",
            "torch.Size([1000, 1024, 2]) torch.Size([1000, 1024])\n"
          ],
          "name": "stdout"
        }
      ]
    },
    {
      "cell_type": "code",
      "metadata": {
        "colab": {
          "base_uri": "https://localhost:8080/"
        },
        "id": "dZ-ahwBowfz2",
        "outputId": "9e44b0a8-98e7-4629-ba7a-1258c2154609"
      },
      "source": [
        "x_data[:ntrain,:].shape\n",
        "print(grid.shape)\n",
        "grid.repeat(ntrain,1,1).shape"
      ],
      "execution_count": null,
      "outputs": [
        {
          "output_type": "stream",
          "text": [
            "torch.Size([1, 1024, 1])\n"
          ],
          "name": "stdout"
        },
        {
          "output_type": "execute_result",
          "data": {
            "text/plain": [
              "torch.Size([1000, 1024, 1])"
            ]
          },
          "metadata": {
            "tags": []
          },
          "execution_count": 18
        }
      ]
    },
    {
      "cell_type": "code",
      "metadata": {
        "colab": {
          "base_uri": "https://localhost:8080/"
        },
        "id": "quYMMNjK4RvY",
        "outputId": "5e4f71b2-2f10-4148-998d-bfca9b8f5fb2"
      },
      "source": [
        "print(x_data.shape, y_data.shape)"
      ],
      "execution_count": null,
      "outputs": [
        {
          "output_type": "stream",
          "text": [
            "torch.Size([2048, 1024]) torch.Size([2048, 1024])\n"
          ],
          "name": "stdout"
        }
      ]
    },
    {
      "cell_type": "code",
      "metadata": {
        "colab": {
          "base_uri": "https://localhost:8080/"
        },
        "id": "z6OEmpNUwBcW",
        "outputId": "b8b57876-e982-4dd5-b463-9296eb442efd"
      },
      "source": [
        "for ep in range(epochs):\n",
        "    model.train()\n",
        "    t1 = default_timer()\n",
        "    train_mse = 0\n",
        "    train_l2 = 0\n",
        "    for x, y in train_loader:\n",
        "        x, y = x.cuda(), y.cuda()\n",
        "        optimizer.zero_grad()\n",
        "        out = model(x)\n",
        "\n",
        "        mse = F.mse_loss(out, y, reduction='mean')\n",
        "        # mse.backward()\n",
        "        l2 = myloss(out.view(batch_size, -1), y.view(batch_size, -1))\n",
        "        l2.backward() # use the l2 relative loss\n",
        "\n",
        "        optimizer.step()\n",
        "        train_mse += mse.item()\n",
        "        train_l2 += l2.item()\n",
        "\n",
        "    scheduler.step()\n",
        "    model.eval()\n",
        "    test_l2 = 0.0\n",
        "    with torch.no_grad():\n",
        "        for x, y in test_loader:\n",
        "            x, y = x.cuda(), y.cuda()\n",
        "\n",
        "            out = model(x)\n",
        "            test_l2 += myloss(out.view(batch_size, -1), y.view(batch_size, -1)).item()\n",
        "\n",
        "    train_mse /= len(train_loader)\n",
        "    train_l2 /= ntrain\n",
        "    test_l2 /= ntest\n",
        "\n",
        "    t2 = default_timer()\n",
        "    print(ep, t2-t1, train_mse, train_l2, test_l2)\n",
        "\n",
        "# torch.save(model, 'model/ns_fourier_burgers_8192')\n",
        "pred = torch.zeros(y_test.shape)\n",
        "index = 0\n",
        "test_loader = torch.utils.data.DataLoader(torch.utils.data.TensorDataset(x_test, y_test), batch_size=1, shuffle=False)\n",
        "with torch.no_grad():\n",
        "    for x, y in test_loader:\n",
        "        test_l2 = 0\n",
        "        x, y = x.cuda(), y.cuda()\n",
        "\n",
        "        out = model(x)\n",
        "        pred[index] = out\n",
        "\n",
        "        test_l2 += myloss(out.view(1, -1), y.view(1, -1)).item()\n",
        "        print(index, test_l2)\n",
        "        index = index + 1"
      ],
      "execution_count": null,
      "outputs": [
        {
          "output_type": "stream",
          "text": [
            "/usr/local/lib/python3.7/dist-packages/ipykernel_launcher.py:52: UserWarning: The function torch.rfft is deprecated and will be removed in a future PyTorch release. Use the new torch.fft module functions, instead, by importing torch.fft and calling torch.fft.fft or torch.fft.rfft. (Triggered internally at  /pytorch/aten/src/ATen/native/SpectralOps.cpp:590.)\n",
            "/usr/local/lib/python3.7/dist-packages/ipykernel_launcher.py:59: UserWarning: The function torch.irfft is deprecated and will be removed in a future PyTorch release. Use the new torch.fft module functions, instead, by importing torch.fft and calling torch.fft.ifft or torch.fft.irfft. (Triggered internally at  /pytorch/aten/src/ATen/native/SpectralOps.cpp:602.)\n"
          ],
          "name": "stderr"
        },
        {
          "output_type": "stream",
          "text": [
            "0 0.7416987710000171 0.05354849984170869 0.3613213912248611 0.07754351615905762\n",
            "1 0.6384254179999971 0.0016001818771474064 0.07448743486404419 0.04233006119728088\n",
            "2 0.6331632619999823 0.0006303416361333802 0.046391412973403934 0.03929998457431793\n",
            "3 0.6216723240000306 0.0004148061435262207 0.039330279916524886 0.047264859080314636\n",
            "4 0.6181082869999841 0.0003808203492371831 0.03745627596974373 0.02945832133293152\n",
            "5 0.6359555930000056 0.0004312468078569509 0.04221608126163483 0.03336036145687103\n",
            "6 0.6400519189999727 0.0003221724812465254 0.035959505528211595 0.02721126437187195\n",
            "7 0.6246196980000036 0.00035855113659636115 0.041176387816667555 0.022314115464687347\n",
            "8 0.6513619899999981 0.00037473545024113264 0.039939846843481064 0.04424547553062439\n",
            "9 0.6223831230000201 0.0002832743116596248 0.03582934635877609 0.038635519742965696\n",
            "10 0.6421252760000016 0.00024275982708786613 0.03178178995847702 0.02518667995929718\n",
            "11 0.6364311570000041 0.00021851031597179825 0.02951567628979683 0.028228451013565064\n",
            "12 0.6275796560000231 0.00018962024929351174 0.02813981083035469 0.05022210597991943\n",
            "13 0.6361345859999687 0.00023405982152326034 0.03176425123214722 0.033692578077316286\n",
            "14 0.6484076200000004 0.00020705585651739966 0.029875701278448106 0.03777793824672699\n",
            "15 0.6392426099999966 0.00020365251155453733 0.029704697906970976 0.028989757895469665\n",
            "16 0.6453087419999974 0.00014164370244543534 0.024202897220849992 0.021864566802978515\n",
            "17 0.629386358999966 0.0001440146991808433 0.025660188376903533 0.01907955586910248\n",
            "18 0.636237570999981 0.00017901434432133101 0.02786140352487564 0.023452574610710143\n",
            "19 0.6458792710000125 0.00017370437490171753 0.02856682166457176 0.025904369354248048\n",
            "20 0.6389937409999789 0.00013353767441003583 0.024323151737451552 0.022121781706809996\n",
            "21 0.6305818800000225 0.0001693155547400238 0.026551840037107467 0.035399622321128844\n",
            "22 0.6257238519999646 0.00012920092623971868 0.02273543819785118 0.01954728603363037\n",
            "23 0.6461429419999831 0.00011924458434805275 0.02326320543885231 0.020864364206790924\n",
            "24 0.6341273279999768 0.00015428751496074255 0.024724400043487547 0.016772398352622987\n",
            "25 0.6215887740000312 0.0001238472849217942 0.02284785756468773 0.01908943980932236\n",
            "26 0.6302428540000165 0.0001590003258024808 0.026391669392585755 0.02444505602121353\n",
            "27 0.623393673999999 0.00015861897401919122 0.025781374126672744 0.018966597616672517\n",
            "28 0.6478958440000042 0.00020352575287688524 0.030013124614953996 0.03974452137947083\n",
            "29 0.6242657550000104 0.0001371214237587992 0.02457018408179283 0.024499270915985107\n",
            "30 0.6299861150000083 0.00015484957104490603 0.026212317585945128 0.01899069517850876\n",
            "31 0.6365633699999762 0.00014308352088846733 0.025562101095914842 0.015979790091514588\n",
            "32 0.6428587110000308 0.0001495911040547071 0.026094797044992447 0.018323251605033876\n",
            "33 0.6288105319999886 9.683967771707103e-05 0.019491195946931838 0.015797522962093354\n",
            "34 0.6246808249999845 9.010887115437071e-05 0.018033733427524568 0.023843395113945006\n",
            "35 0.6366946020000341 9.975663131626788e-05 0.020515057235956192 0.0278529953956604\n",
            "36 0.6227675780000368 0.00013313447321706918 0.023364952892065048 0.022009365856647492\n",
            "37 0.6439938800000391 0.0001604983520519454 0.026420327305793762 0.03179972469806671\n",
            "38 0.6354828159999784 0.0001518969984317664 0.02563538008928299 0.020071280896663667\n",
            "39 0.6544522080000093 0.00015093356294528347 0.02547643619775772 0.015632186830043793\n",
            "40 0.6353473080000072 9.717682805785444e-05 0.019929058253765106 0.024829313158988953\n",
            "41 0.6537375699999757 0.00011659323201456572 0.02133734366297722 0.019044482111930848\n",
            "42 0.6167276010000364 7.349215131398523e-05 0.017386282205581666 0.01743039697408676\n",
            "43 0.6439251859999899 0.00012958846011315472 0.02412144309282303 0.025212956070899965\n",
            "44 0.6278346560000045 0.00013062817539321258 0.02301234370470047 0.016930562257766724\n",
            "45 0.6351428050000436 7.726498453848763e-05 0.0178023951202631 0.02236891061067581\n",
            "46 0.6633431689999725 0.00013117760921886655 0.023164908766746522 0.017947366833686827\n",
            "47 0.6447776809999937 0.00011453532104496844 0.02066245523095131 0.023558064103126525\n",
            "48 0.6420821289999594 6.561777398019331e-05 0.01688595549762249 0.013661049902439118\n",
            "49 0.6443982829999868 8.807383466773899e-05 0.01985122925043106 0.01590121030807495\n",
            "0 0.01882326975464821\n",
            "1 0.011780832894146442\n",
            "2 0.01617131382226944\n",
            "3 0.024308834224939346\n",
            "4 0.016110578551888466\n",
            "5 0.016242407262325287\n",
            "6 0.018659068271517754\n",
            "7 0.017476150766015053\n",
            "8 0.011819513514637947\n",
            "9 0.01263175718486309\n",
            "10 0.017040928825736046\n",
            "11 0.01900607720017433\n",
            "12 0.012621857225894928\n",
            "13 0.022964345291256905\n",
            "14 0.010873797349631786\n",
            "15 0.017901653423905373\n",
            "16 0.011861174367368221\n",
            "17 0.014948893338441849\n",
            "18 0.01978512480854988\n",
            "19 0.01773277297616005\n",
            "20 0.01791384629905224\n",
            "21 0.017548441886901855\n",
            "22 0.020477065816521645\n",
            "23 0.014267511665821075\n",
            "24 0.012986674904823303\n",
            "25 0.01054005604237318\n",
            "26 0.011481612920761108\n",
            "27 0.01404505129903555\n",
            "28 0.017436498776078224\n",
            "29 0.014279634691774845\n",
            "30 0.013244579546153545\n",
            "31 0.015337851829826832\n",
            "32 0.019295090809464455\n",
            "33 0.01872948743402958\n",
            "34 0.012287287041544914\n",
            "35 0.019188353791832924\n",
            "36 0.017460934817790985\n",
            "37 0.01980029046535492\n",
            "38 0.012861414812505245\n",
            "39 0.01492675393819809\n",
            "40 0.00992821715772152\n",
            "41 0.018679389730095863\n",
            "42 0.018133793026208878\n",
            "43 0.0168144591152668\n",
            "44 0.01460652332752943\n",
            "45 0.015093841589987278\n",
            "46 0.012160524725914001\n",
            "47 0.012855674140155315\n",
            "48 0.011831918731331825\n",
            "49 0.019232135266065598\n",
            "50 0.016405846923589706\n",
            "51 0.013448902405798435\n",
            "52 0.018033981323242188\n",
            "53 0.011423188261687756\n",
            "54 0.010794159024953842\n",
            "55 0.013778053224086761\n",
            "56 0.017262963578104973\n",
            "57 0.011356960982084274\n",
            "58 0.016286538913846016\n",
            "59 0.015651332214474678\n",
            "60 0.016879653558135033\n",
            "61 0.014301668852567673\n",
            "62 0.01713632419705391\n",
            "63 0.011901757679879665\n",
            "64 0.022010385990142822\n",
            "65 0.0213388092815876\n",
            "66 0.017842348664999008\n",
            "67 0.013401267118752003\n",
            "68 0.008924104273319244\n",
            "69 0.018829654902219772\n",
            "70 0.019390596076846123\n",
            "71 0.01304931752383709\n",
            "72 0.016718214377760887\n",
            "73 0.015188980847597122\n",
            "74 0.010794452391564846\n",
            "75 0.016164200380444527\n",
            "76 0.025226255878806114\n",
            "77 0.0165315642952919\n",
            "78 0.01677655428647995\n",
            "79 0.01711299456655979\n",
            "80 0.014801302924752235\n",
            "81 0.011694857850670815\n",
            "82 0.014210162684321404\n",
            "83 0.02294868417084217\n",
            "84 0.01336387638002634\n",
            "85 0.012927532196044922\n",
            "86 0.01274354662746191\n",
            "87 0.01861182227730751\n",
            "88 0.02106478065252304\n",
            "89 0.014857693575322628\n",
            "90 0.014120121486485004\n",
            "91 0.02134016714990139\n",
            "92 0.013288442976772785\n",
            "93 0.018686337396502495\n",
            "94 0.026277096942067146\n",
            "95 0.01243186742067337\n",
            "96 0.014437433332204819\n",
            "97 0.019512027502059937\n",
            "98 0.013439957052469254\n",
            "99 0.01319748442620039\n"
          ],
          "name": "stdout"
        }
      ]
    }
  ]
}